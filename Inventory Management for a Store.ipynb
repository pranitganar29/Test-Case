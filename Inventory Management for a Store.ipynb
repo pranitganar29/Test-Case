{
 "cells": [
  {
   "cell_type": "code",
   "execution_count": 1,
   "id": "f8d2ac0f",
   "metadata": {},
   "outputs": [],
   "source": [
    "# Case Study 5: Inventory Management for a Store\n",
    "# Problem Statement:\n",
    "# You are tasked with managing the inventory of a retail store. Perform the following tasks:\n",
    "\n",
    "# Create a list of available products with their names, prices, and quantities.\n",
    "# Implement functions for adding new products, updating quantities, and removing products from the inventory.\n",
    "# Calculate the total value of the current inventory.\n",
    "# Generate a report of low-stock items that need to be replenished.\n",
    "# Create a function to calculate the total revenue based on sales."
   ]
  },
  {
   "cell_type": "code",
   "execution_count": 31,
   "id": "e9d36d48",
   "metadata": {},
   "outputs": [
    {
     "name": "stdout",
     "output_type": "stream",
     "text": [
      "Product List : \n",
      " [{'Name': 'A', 'Price': 25, 'Quantity': 3}, {'Name': 'B', 'Price': 50, 'Quantity': 6}, {'Name': 'C', 'Price': 75, 'Quantity': 9}, {'Name': 'D', 'Price': 100, 'Quantity': 12}]\n",
      "\n",
      "Total value of the current inventory :  2250\n",
      "\n",
      "Product List : \n",
      " [{'Name': 'A', 'Price': 25, 'Quantity': 3}, {'Name': 'B', 'Price': 50, 'Quantity': 15}, {'Name': 'C', 'Price': 75, 'Quantity': 9}, {'Name': 'D', 'Price': 100, 'Quantity': 12}]\n",
      "\n",
      "Product List : \n",
      " [{'Name': 'B', 'Price': 50, 'Quantity': 15}, {'Name': 'C', 'Price': 75, 'Quantity': 9}, {'Name': 'D', 'Price': 100, 'Quantity': 12}]\n",
      "\n",
      "Total revenue based on sales :  27500\n"
     ]
    }
   ],
   "source": [
    "def get_inventory():\n",
    "    return []\n",
    "def add_product(invent,name,price,quantity):\n",
    "    invent.append({'Name':name,\n",
    "                  'Price':price,\n",
    "                  'Quantity':quantity})\n",
    "def update_quantity(invent,name,new_quantity):\n",
    "    for i in invent:\n",
    "        if i['Name'] == name:\n",
    "            i['Quantity'] = new_quantity\n",
    "            break\n",
    "    else:\n",
    "        print(\"Product Not Found\")\n",
    "def remove_product(invent,name):\n",
    "    invent[:] = [i for i in invent if i['Name'] != name]\n",
    "def total_invent(invent):\n",
    "    final = sum(i['Price'] * i['Quantity'] for i in invent)\n",
    "    return final\n",
    "def stock_repo(invent,stock=15):\n",
    "    repo = [i for i in invent if i['Quantity'] < stock ]\n",
    "    return repo\n",
    "def total_revenue(invent,sales):\n",
    "    amount = sum(i['Price'] * sales.get(i['Name'],0) for i in invent)\n",
    "    return amount\n",
    "\n",
    "invent = get_inventory()\n",
    "add_product(invent,\"A\",25,3)\n",
    "add_product(invent,\"B\",50,6)\n",
    "add_product(invent,\"C\",75,9)\n",
    "add_product(invent,\"D\",100,12)\n",
    "\n",
    "print('Product List : \\n',invent)\n",
    "print()\n",
    "\n",
    "print('Total value of the current inventory : ',total_invent(invent))\n",
    "print()\n",
    "\n",
    "update_quantity(invent,\"B\",15)\n",
    "print('Product List : \\n',invent)\n",
    "print()\n",
    "\n",
    "remove_product(invent,\"A\")\n",
    "print('Product List : \\n',invent)\n",
    "print()\n",
    "\n",
    "sales_data = {\"B\":150,\"D\":200}\n",
    "print('Total revenue based on sales : ',total_revenue(invent,sales_data))\n"
   ]
  },
  {
   "cell_type": "code",
   "execution_count": null,
   "id": "915523c3",
   "metadata": {},
   "outputs": [],
   "source": []
  },
  {
   "cell_type": "code",
   "execution_count": null,
   "id": "786a6f90",
   "metadata": {},
   "outputs": [],
   "source": []
  },
  {
   "cell_type": "code",
   "execution_count": null,
   "id": "e774cea8",
   "metadata": {},
   "outputs": [],
   "source": []
  },
  {
   "cell_type": "code",
   "execution_count": null,
   "id": "35816c4d",
   "metadata": {},
   "outputs": [],
   "source": []
  },
  {
   "cell_type": "code",
   "execution_count": null,
   "id": "059c9af5",
   "metadata": {},
   "outputs": [],
   "source": []
  }
 ],
 "metadata": {
  "kernelspec": {
   "display_name": "Python 3 (ipykernel)",
   "language": "python",
   "name": "python3"
  },
  "language_info": {
   "codemirror_mode": {
    "name": "ipython",
    "version": 3
   },
   "file_extension": ".py",
   "mimetype": "text/x-python",
   "name": "python",
   "nbconvert_exporter": "python",
   "pygments_lexer": "ipython3",
   "version": "3.9.12"
  }
 },
 "nbformat": 4,
 "nbformat_minor": 5
}
